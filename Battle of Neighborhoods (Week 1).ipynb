{
 "cells": [
  {
   "cell_type": "markdown",
   "metadata": {},
   "source": [
    "# Business Problem"
   ]
  },
  {
   "cell_type": "markdown",
   "metadata": {},
   "source": [
    "#### Raffaele Schiavone"
   ]
  },
  {
   "cell_type": "markdown",
   "metadata": {},
   "source": [
    "<p>Ciro wants to open a new B&B in Naples in Italy.\n",
    "Ciro requested an evaluation based on the proximity of transport, monuments, and of course the presence of pizzerias.</p>"
   ]
  },
  {
   "cell_type": "code",
   "execution_count": null,
   "metadata": {},
   "outputs": [],
   "source": [
    "Date\n",
    "\n",
    "To help Gennaro in his search we will need to access following data:\n",
    "\n",
    "- The Localities of Naples, Italia from Wikipedia: https://it.wikipedia.org/wiki/Quartieri_di_Napoli\n",
    "\n",
    "- The coordinates (latitude, longitude) ot these Localities of Naples from Open Street Map APIs\n",
    "\n",
    "- From Foursquare we will need following venues data:\n",
    "  - the b&b venues of the Localities\n",
    "  - the metro venues of the Localities\n",
    "  - the monuments venues of the Localities\n",
    "  - the pizzerias venues of the Localities\n",
    "\n",
    "We will then leverage the data to determine which locality is most appropriate in order to locate the b&B"
   ]
  }
 ],
 "metadata": {
  "kernelspec": {
   "display_name": "Python 3",
   "language": "python",
   "name": "python3"
  },
  "language_info": {
   "codemirror_mode": {
    "name": "ipython",
    "version": 3
   },
   "file_extension": ".py",
   "mimetype": "text/x-python",
   "name": "python",
   "nbconvert_exporter": "python",
   "pygments_lexer": "ipython3",
   "version": "3.7.1"
  }
 },
 "nbformat": 4,
 "nbformat_minor": 2
}
